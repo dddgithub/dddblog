{
 "cells": [
  {
   "cell_type": "markdown",
   "metadata": {},
   "source": [
    "## example-parser-1\n",
    "### 语法解析生成 AST\n",
    "- 语法文法解析的理论基础是上下文无关文法等"
   ]
  },
  {
   "cell_type": "code",
   "execution_count": 22,
   "metadata": {},
   "outputs": [],
   "source": [
    "import (\n",
    "    \"go/ast\"\n",
    "    \"go/parser\"\n",
    "    \"go/token\"\n",
    ")"
   ]
  },
  {
   "cell_type": "code",
   "execution_count": 23,
   "metadata": {},
   "outputs": [],
   "source": [
    "src := []byte(`package main\n",
    "import \"fmt\"\n",
    "var x = 1\n",
    "func main() {\n",
    "  a := 1\n",
    "  fmt.Println(\"Hello, world!\")\n",
    "}\n",
    "`)"
   ]
  },
  {
   "cell_type": "code",
   "execution_count": 24,
   "metadata": {},
   "outputs": [],
   "source": [
    "fset := token.NewFileSet()\n",
    "\n",
    "file, err := parser.ParseFile(fset, \"\", src, 0)\n",
    "if err != nil {\n",
    "    panic(err)\n",
    "}"
   ]
  },
  {
   "cell_type": "code",
   "execution_count": 25,
   "metadata": {},
   "outputs": [
    {
     "name": "stdout",
     "output_type": "stream",
     "text": [
      "     0  *ast.File {\n",
      "     1  .  Package: 1:1\n",
      "     2  .  Name: *ast.Ident {\n",
      "     3  .  .  NamePos: 1:9\n",
      "     4  .  .  Name: \"main\"\n",
      "     5  .  }\n",
      "     6  .  Decls: []ast.Decl (len = 3) {\n",
      "     7  .  .  0: *ast.GenDecl {\n",
      "     8  .  .  .  TokPos: 2:1\n",
      "     9  .  .  .  Tok: import\n",
      "    10  .  .  .  Lparen: -\n",
      "    11  .  .  .  Specs: []ast.Spec (len = 1) {\n",
      "    12  .  .  .  .  0: *ast.ImportSpec {\n",
      "    13  .  .  .  .  .  Path: *ast.BasicLit {\n",
      "    14  .  .  .  .  .  .  ValuePos: 2:8\n",
      "    15  .  .  .  .  .  .  Kind: STRING\n",
      "    16  .  .  .  .  .  .  Value: \"\\\"fmt\\\"\"\n",
      "    17  .  .  .  .  .  }\n",
      "    18  .  .  .  .  .  EndPos: -\n",
      "    19  .  .  .  .  }\n",
      "    20  .  .  .  }\n",
      "    21  .  .  .  Rparen: -\n",
      "    22  .  .  }\n",
      "    23  .  .  1: *ast.GenDecl {\n",
      "    24  .  .  .  TokPos: 3:1\n",
      "    25  .  .  .  Tok: var\n",
      "    26  .  .  .  Lparen: -\n",
      "    27  .  .  .  Specs: []ast.Spec (len = 1) {\n",
      "    28  .  .  .  .  0: *ast.ValueSpec {\n",
      "    29  .  .  .  .  .  Names: []*ast.Ident (len = 1) {\n",
      "    30  .  .  .  .  .  .  0: *ast.Ident {\n",
      "    31  .  .  .  .  .  .  .  NamePos: 3:5\n",
      "    32  .  .  .  .  .  .  .  Name: \"x\"\n",
      "    33  .  .  .  .  .  .  .  Obj: *ast.Object {\n",
      "    34  .  .  .  .  .  .  .  .  Kind: var\n",
      "    35  .  .  .  .  .  .  .  .  Name: \"x\"\n",
      "    36  .  .  .  .  .  .  .  .  Decl: *(obj @ 28)\n",
      "    37  .  .  .  .  .  .  .  .  Data: 0\n",
      "    38  .  .  .  .  .  .  .  }\n",
      "    39  .  .  .  .  .  .  }\n",
      "    40  .  .  .  .  .  }\n",
      "    41  .  .  .  .  .  Values: []ast.Expr (len = 1) {\n",
      "    42  .  .  .  .  .  .  0: *ast.BasicLit {\n",
      "    43  .  .  .  .  .  .  .  ValuePos: 3:9\n",
      "    44  .  .  .  .  .  .  .  Kind: INT\n",
      "    45  .  .  .  .  .  .  .  Value: \"1\"\n",
      "    46  .  .  .  .  .  .  }\n",
      "    47  .  .  .  .  .  }\n",
      "    48  .  .  .  .  }\n",
      "    49  .  .  .  }\n",
      "    50  .  .  .  Rparen: -\n",
      "    51  .  .  }\n",
      "    52  .  .  2: *ast.FuncDecl {\n",
      "    53  .  .  .  Name: *ast.Ident {\n",
      "    54  .  .  .  .  NamePos: 4:6\n",
      "    55  .  .  .  .  Name: \"main\"\n",
      "    56  .  .  .  .  Obj: *ast.Object {\n",
      "    57  .  .  .  .  .  Kind: func\n",
      "    58  .  .  .  .  .  Name: \"main\"\n",
      "    59  .  .  .  .  .  Decl: *(obj @ 52)\n",
      "    60  .  .  .  .  }\n",
      "    61  .  .  .  }\n",
      "    62  .  .  .  Type: *ast.FuncType {\n",
      "    63  .  .  .  .  Func: 4:1\n",
      "    64  .  .  .  .  Params: *ast.FieldList {\n",
      "    65  .  .  .  .  .  Opening: 4:10\n",
      "    66  .  .  .  .  .  Closing: 4:11\n",
      "    67  .  .  .  .  }\n",
      "    68  .  .  .  }\n",
      "    69  .  .  .  Body: *ast.BlockStmt {\n",
      "    70  .  .  .  .  Lbrace: 4:13\n",
      "    71  .  .  .  .  List: []ast.Stmt (len = 2) {\n",
      "    72  .  .  .  .  .  0: *ast.AssignStmt {\n",
      "    73  .  .  .  .  .  .  Lhs: []ast.Expr (len = 1) {\n",
      "    74  .  .  .  .  .  .  .  0: *ast.Ident {\n",
      "    75  .  .  .  .  .  .  .  .  NamePos: 5:3\n",
      "    76  .  .  .  .  .  .  .  .  Name: \"a\"\n",
      "    77  .  .  .  .  .  .  .  .  Obj: *ast.Object {\n",
      "    78  .  .  .  .  .  .  .  .  .  Kind: var\n",
      "    79  .  .  .  .  .  .  .  .  .  Name: \"a\"\n",
      "    80  .  .  .  .  .  .  .  .  .  Decl: *(obj @ 72)\n",
      "    81  .  .  .  .  .  .  .  .  }\n",
      "    82  .  .  .  .  .  .  .  }\n",
      "    83  .  .  .  .  .  .  }\n",
      "    84  .  .  .  .  .  .  TokPos: 5:5\n",
      "    85  .  .  .  .  .  .  Tok: :=\n",
      "    86  .  .  .  .  .  .  Rhs: []ast.Expr (len = 1) {\n",
      "    87  .  .  .  .  .  .  .  0: *ast.BasicLit {\n",
      "    88  .  .  .  .  .  .  .  .  ValuePos: 5:8\n",
      "    89  .  .  .  .  .  .  .  .  Kind: INT\n",
      "    90  .  .  .  .  .  .  .  .  Value: \"1\"\n",
      "    91  .  .  .  .  .  .  .  }\n",
      "    92  .  .  .  .  .  .  }\n",
      "    93  .  .  .  .  .  }\n",
      "    94  .  .  .  .  .  1: *ast.ExprStmt {\n",
      "    95  .  .  .  .  .  .  X: *ast.CallExpr {\n",
      "    96  .  .  .  .  .  .  .  Fun: *ast.SelectorExpr {\n",
      "    97  .  .  .  .  .  .  .  .  X: *ast.Ident {\n",
      "    98  .  .  .  .  .  .  .  .  .  NamePos: 6:3\n",
      "    99  .  .  .  .  .  .  .  .  .  Name: \"fmt\"\n",
      "   100  .  .  .  .  .  .  .  .  }\n",
      "   101  .  .  .  .  .  .  .  .  Sel: *ast.Ident {\n",
      "   102  .  .  .  .  .  .  .  .  .  NamePos: 6:7\n",
      "   103  .  .  .  .  .  .  .  .  .  Name: \"Println\"\n",
      "   104  .  .  .  .  .  .  .  .  }\n",
      "   105  .  .  .  .  .  .  .  }\n",
      "   106  .  .  .  .  .  .  .  Lparen: 6:14\n",
      "   107  .  .  .  .  .  .  .  Args: []ast.Expr (len = 1) {\n",
      "   108  .  .  .  .  .  .  .  .  0: *ast.BasicLit {\n",
      "   109  .  .  .  .  .  .  .  .  .  ValuePos: 6:15\n",
      "   110  .  .  .  .  .  .  .  .  .  Kind: STRING\n",
      "   111  .  .  .  .  .  .  .  .  .  Value: \"\\\"Hello, world!\\\"\"\n",
      "   112  .  .  .  .  .  .  .  .  }\n",
      "   113  .  .  .  .  .  .  .  }\n",
      "   114  .  .  .  .  .  .  .  Ellipsis: -\n",
      "   115  .  .  .  .  .  .  .  Rparen: 6:30\n",
      "   116  .  .  .  .  .  .  }\n",
      "   117  .  .  .  .  .  }\n",
      "   118  .  .  .  .  }\n",
      "   119  .  .  .  .  Rbrace: 7:1\n",
      "   120  .  .  .  }\n",
      "   121  .  .  }\n",
      "   122  .  }\n",
      "   123  .  Scope: *ast.Scope {\n",
      "   124  .  .  Objects: map[string]*ast.Object (len = 2) {\n",
      "   125  .  .  .  \"main\": *(obj @ 56)\n",
      "   126  .  .  .  \"x\": *(obj @ 33)\n",
      "   127  .  .  }\n",
      "   128  .  }\n",
      "   129  .  Imports: []*ast.ImportSpec (len = 1) {\n",
      "   130  .  .  0: *(obj @ 12)\n",
      "   131  .  }\n",
      "   132  .  Unresolved: []*ast.Ident (len = 1) {\n",
      "   133  .  .  0: *(obj @ 97)\n",
      "   134  .  }\n",
      "   135  }\n"
     ]
    }
   ],
   "source": [
    "ast.Print(fset, file)"
   ]
  },
  {
   "cell_type": "markdown",
   "metadata": {},
   "source": [
    "- 这里加了两个变量的声明, 看下有什么变化\n",
    "- 从上面输出的信息看，一个源码文件中源代码的语言文法结构实际从 ast.Decl 声明开始\n",
    "                        ast.Decl\n",
    "            +--------------+--------------------+\n",
    "        ast.GenDecl    ast.FuncDecl"
   ]
  },
  {
   "cell_type": "markdown",
   "metadata": {},
   "source": [
    "### 把 AST 结构生成字符串形式的源代码"
   ]
  },
  {
   "cell_type": "markdown",
   "metadata": {},
   "source": [
    "- go 提供了一个格式化代码的包 go/format\n",
    "- 大致原因应该是把代码解析成 AST 之后，在从 AST 生成标准的 go 源代码\n",
    "- 所以反过来，如果有一个 AST 结构描述的程序代码，是可以生成对应的 go 代码的"
   ]
  },
  {
   "cell_type": "code",
   "execution_count": 26,
   "metadata": {},
   "outputs": [],
   "source": [
    "import \"bytes\"\n",
    "import \"go/format\"\n",
    "import \"fmt\""
   ]
  },
  {
   "cell_type": "markdown",
   "metadata": {},
   "source": [
    "- 对之前生成的 AST 进行 go 代码生成"
   ]
  },
  {
   "cell_type": "code",
   "execution_count": 28,
   "metadata": {},
   "outputs": [
    {
     "name": "stdout",
     "output_type": "stream",
     "text": [
      "package main\n",
      "\n",
      "import \"fmt\"\n",
      "\n",
      "var x = 1\n",
      "\n",
      "func main() {\n",
      "\ta := 1\n",
      "\tfmt.Println(\"Hello, world!\")\n",
      "}\n",
      "\n"
     ]
    },
    {
     "data": {
      "text/plain": [
       "94 <nil>"
      ]
     },
     "execution_count": 28,
     "metadata": {},
     "output_type": "execute_result"
    }
   ],
   "source": [
    "var buf bytes.Buffer\n",
    "\n",
    "err := format.Node(&buf, fset, file)\n",
    "if err != nil {\n",
    "    panic(err)\n",
    "}\n",
    "fmt.Println(buf.String())"
   ]
  },
  {
   "cell_type": "code",
   "execution_count": null,
   "metadata": {},
   "outputs": [],
   "source": []
  }
 ],
 "metadata": {
  "kernelspec": {
   "display_name": "Go",
   "language": "go",
   "name": "gophernotes"
  },
  "language_info": {
   "codemirror_mode": "",
   "file_extension": ".go",
   "mimetype": "",
   "name": "go",
   "nbconvert_exporter": "",
   "pygments_lexer": "",
   "version": "go1.17.2"
  }
 },
 "nbformat": 4,
 "nbformat_minor": 2
}
