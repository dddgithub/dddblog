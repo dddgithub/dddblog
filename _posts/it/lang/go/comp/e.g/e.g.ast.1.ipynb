{
 "cells": [
  {
   "cell_type": "markdown",
   "metadata": {},
   "source": [
    "## example-ast-1\n",
    "### REF"
   ]
  },
  {
   "cell_type": "code",
   "execution_count": 1,
   "metadata": {},
   "outputs": [],
   "source": [
    "import \"go/ast\"\n",
    "import \"go/token\"\n",
    "import \"go/parser\""
   ]
  },
  {
   "cell_type": "code",
   "execution_count": 2,
   "metadata": {},
   "outputs": [],
   "source": [
    "src := `\n",
    "package main \n",
    "import \"fmt\"\n",
    "func main() {\n",
    "    fmt.Println(\"hello\")\n",
    "}`"
   ]
  },
  {
   "cell_type": "code",
   "execution_count": 3,
   "metadata": {},
   "outputs": [
    {
     "name": "stdout",
     "output_type": "stream",
     "text": [
      "     0  *ast.File {\n",
      "     1  .  Package: 2:1\n",
      "     2  .  Name: *ast.Ident {\n",
      "     3  .  .  NamePos: 2:9\n",
      "     4  .  .  Name: \"main\"\n",
      "     5  .  }\n",
      "     6  .  Decls: []ast.Decl (len = 2) {\n",
      "     7  .  .  0: *ast.GenDecl {\n",
      "     8  .  .  .  TokPos: 3:1\n",
      "     9  .  .  .  Tok: import\n",
      "    10  .  .  .  Lparen: -\n",
      "    11  .  .  .  Specs: []ast.Spec (len = 1) {\n",
      "    12  .  .  .  .  0: *ast.ImportSpec {\n",
      "    13  .  .  .  .  .  Path: *ast.BasicLit {\n",
      "    14  .  .  .  .  .  .  ValuePos: 3:8\n",
      "    15  .  .  .  .  .  .  Kind: STRING\n",
      "    16  .  .  .  .  .  .  Value: \"\\\"fmt\\\"\"\n",
      "    17  .  .  .  .  .  }\n",
      "    18  .  .  .  .  .  EndPos: -\n",
      "    19  .  .  .  .  }\n",
      "    20  .  .  .  }\n",
      "    21  .  .  .  Rparen: -\n",
      "    22  .  .  }\n",
      "    23  .  .  1: *ast.FuncDecl {\n",
      "    24  .  .  .  Name: *ast.Ident {\n",
      "    25  .  .  .  .  NamePos: 4:6\n",
      "    26  .  .  .  .  Name: \"main\"\n",
      "    27  .  .  .  .  Obj: *ast.Object {\n",
      "    28  .  .  .  .  .  Kind: func\n",
      "    29  .  .  .  .  .  Name: \"main\"\n",
      "    30  .  .  .  .  .  Decl: *(obj @ 23)\n",
      "    31  .  .  .  .  }\n",
      "    32  .  .  .  }\n",
      "    33  .  .  .  Type: *ast.FuncType {\n",
      "    34  .  .  .  .  Func: 4:1\n",
      "    35  .  .  .  .  Params: *ast.FieldList {\n",
      "    36  .  .  .  .  .  Opening: 4:10\n",
      "    37  .  .  .  .  .  Closing: 4:11\n",
      "    38  .  .  .  .  }\n",
      "    39  .  .  .  }\n",
      "    40  .  .  .  Body: *ast.BlockStmt {\n",
      "    41  .  .  .  .  Lbrace: 4:13\n",
      "    42  .  .  .  .  List: []ast.Stmt (len = 1) {\n",
      "    43  .  .  .  .  .  0: *ast.ExprStmt {\n",
      "    44  .  .  .  .  .  .  X: *ast.CallExpr {\n",
      "    45  .  .  .  .  .  .  .  Fun: *ast.SelectorExpr {\n",
      "    46  .  .  .  .  .  .  .  .  X: *ast.Ident {\n",
      "    47  .  .  .  .  .  .  .  .  .  NamePos: 5:5\n",
      "    48  .  .  .  .  .  .  .  .  .  Name: \"fmt\"\n",
      "    49  .  .  .  .  .  .  .  .  }\n",
      "    50  .  .  .  .  .  .  .  .  Sel: *ast.Ident {\n",
      "    51  .  .  .  .  .  .  .  .  .  NamePos: 5:9\n",
      "    52  .  .  .  .  .  .  .  .  .  Name: \"Println\"\n",
      "    53  .  .  .  .  .  .  .  .  }\n",
      "    54  .  .  .  .  .  .  .  }\n",
      "    55  .  .  .  .  .  .  .  Lparen: 5:16\n",
      "    56  .  .  .  .  .  .  .  Args: []ast.Expr (len = 1) {\n",
      "    57  .  .  .  .  .  .  .  .  0: *ast.BasicLit {\n",
      "    58  .  .  .  .  .  .  .  .  .  ValuePos: 5:17\n",
      "    59  .  .  .  .  .  .  .  .  .  Kind: STRING\n",
      "    60  .  .  .  .  .  .  .  .  .  Value: \"\\\"hello\\\"\"\n",
      "    61  .  .  .  .  .  .  .  .  }\n",
      "    62  .  .  .  .  .  .  .  }\n",
      "    63  .  .  .  .  .  .  .  Ellipsis: -\n",
      "    64  .  .  .  .  .  .  .  Rparen: 5:24\n",
      "    65  .  .  .  .  .  .  }\n",
      "    66  .  .  .  .  .  }\n",
      "    67  .  .  .  .  }\n",
      "    68  .  .  .  .  Rbrace: 6:1\n",
      "    69  .  .  .  }\n",
      "    70  .  .  }\n",
      "    71  .  }\n",
      "    72  .  Scope: *ast.Scope {\n",
      "    73  .  .  Objects: map[string]*ast.Object (len = 1) {\n",
      "    74  .  .  .  \"main\": *(obj @ 27)\n",
      "    75  .  .  }\n",
      "    76  .  }\n",
      "    77  .  Imports: []*ast.ImportSpec (len = 1) {\n",
      "    78  .  .  0: *(obj @ 12)\n",
      "    79  .  }\n",
      "    80  .  Unresolved: []*ast.Ident (len = 1) {\n",
      "    81  .  .  0: *(obj @ 46)\n",
      "    82  .  }\n",
      "    83  }\n"
     ]
    }
   ],
   "source": [
    "fset := token.NewFileSet()\n",
    "f, err := parser.ParseFile(fset, \"\", src, 0)\n",
    "if err != nil {\n",
    "    panic(err)\n",
    "}\n",
    "ast.Print(fset, f)"
   ]
  },
  {
   "cell_type": "code",
   "execution_count": null,
   "metadata": {},
   "outputs": [],
   "source": []
  }
 ],
 "metadata": {
  "kernelspec": {
   "display_name": "Go",
   "language": "go",
   "name": "gophernotes"
  },
  "language_info": {
   "codemirror_mode": "",
   "file_extension": ".go",
   "mimetype": "",
   "name": "go",
   "nbconvert_exporter": "",
   "pygments_lexer": "",
   "version": "go1.17.2"
  }
 },
 "nbformat": 4,
 "nbformat_minor": 2
}
