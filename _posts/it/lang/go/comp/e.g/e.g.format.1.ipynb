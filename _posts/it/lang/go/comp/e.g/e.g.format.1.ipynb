{
 "cells": [
  {
   "cell_type": "markdown",
   "metadata": {},
   "source": [
    "## example-format-1"
   ]
  },
  {
   "cell_type": "markdown",
   "metadata": {},
   "source": [
    "### ast \n",
    "- 一个合法的 ast 节点数据结构，应该是可以转换成字符串代码的"
   ]
  },
  {
   "cell_type": "code",
   "execution_count": 17,
   "metadata": {},
   "outputs": [],
   "source": [
    "import (\n",
    "    \"go/ast\"\n",
    "    \"go/token\"\n",
    ")"
   ]
  },
  {
   "cell_type": "markdown",
   "metadata": {},
   "source": [
    "- 构建一个函数声明的 AST 节点"
   ]
  },
  {
   "cell_type": "code",
   "execution_count": 56,
   "metadata": {},
   "outputs": [],
   "source": [
    "fn := &ast.FuncDecl{\n",
    "        Name: ast.NewIdent(\"myfunc\"), //函数名称\n",
    "        Type: &ast.FuncType{ //这里定义函数参数和返回结果\n",
    "            Params: &ast.FieldList{ //函数参数\n",
    "            },\n",
    "            Results: &ast.FieldList{\n",
    "                List: []*ast.Field{\n",
    "                    &ast.Field{\n",
    "                        Type: &ast.StarExpr{ //返回指针类型\n",
    "                            X: ast.NewIdent(\"ptr\"),\n",
    "                            //.e.g *Endpoints\n",
    "                        },\n",
    "                    },\n",
    "                    &ast.Field{\n",
    "                        Type: &ast.SelectorExpr{\n",
    "                            X:   ast.NewIdent(\"a\"),\n",
    "                            Sel: ast.NewIdent(\"b\"),\n",
    "                        },\n",
    "                        //返回包对象.e.g : a.b\n",
    "                    },\n",
    "                },\n",
    "            },\n",
    "        },\n",
    "        Body: nil, //函数内语句包含在这里\n",
    "    }"
   ]
  },
  {
   "cell_type": "markdown",
   "metadata": {},
   "source": [
    "- 打印 AST 节点信息"
   ]
  },
  {
   "cell_type": "code",
   "execution_count": 57,
   "metadata": {},
   "outputs": [
    {
     "name": "stdout",
     "output_type": "stream",
     "text": [
      "     0  *ast.FuncDecl {\n",
      "     1  .  Name: *ast.Ident {\n",
      "     2  .  .  NamePos: -\n",
      "     3  .  .  Name: \"myfunc\"\n",
      "     4  .  }\n",
      "     5  .  Type: *ast.FuncType {\n",
      "     6  .  .  Func: -\n",
      "     7  .  .  Params: *ast.FieldList {\n",
      "     8  .  .  .  Opening: -\n",
      "     9  .  .  .  Closing: -\n",
      "    10  .  .  }\n",
      "    11  .  .  Results: *ast.FieldList {\n",
      "    12  .  .  .  Opening: -\n",
      "    13  .  .  .  List: []*ast.Field (len = 2) {\n",
      "    14  .  .  .  .  0: *ast.Field {\n",
      "    15  .  .  .  .  .  Type: *ast.StarExpr {\n",
      "    16  .  .  .  .  .  .  Star: -\n",
      "    17  .  .  .  .  .  .  X: *ast.Ident {\n",
      "    18  .  .  .  .  .  .  .  NamePos: -\n",
      "    19  .  .  .  .  .  .  .  Name: \"ptr\"\n",
      "    20  .  .  .  .  .  .  }\n",
      "    21  .  .  .  .  .  }\n",
      "    22  .  .  .  .  }\n",
      "    23  .  .  .  .  1: *ast.Field {\n",
      "    24  .  .  .  .  .  Type: *ast.SelectorExpr {\n",
      "    25  .  .  .  .  .  .  X: *ast.Ident {\n",
      "    26  .  .  .  .  .  .  .  NamePos: -\n",
      "    27  .  .  .  .  .  .  .  Name: \"a\"\n",
      "    28  .  .  .  .  .  .  }\n",
      "    29  .  .  .  .  .  .  Sel: *ast.Ident {\n",
      "    30  .  .  .  .  .  .  .  NamePos: -\n",
      "    31  .  .  .  .  .  .  .  Name: \"b\"\n",
      "    32  .  .  .  .  .  .  }\n",
      "    33  .  .  .  .  .  }\n",
      "    34  .  .  .  .  }\n",
      "    35  .  .  .  }\n",
      "    36  .  .  .  Closing: -\n",
      "    37  .  .  }\n",
      "    38  .  }\n",
      "    39  }\n"
     ]
    }
   ],
   "source": [
    "fset := token.NewFileSet()\n",
    "ast.Print(fset, fn)"
   ]
  },
  {
   "cell_type": "markdown",
   "metadata": {},
   "source": [
    "- 把 AST 节点转换成 go 源码"
   ]
  },
  {
   "cell_type": "code",
   "execution_count": 67,
   "metadata": {},
   "outputs": [],
   "source": [
    "import \"bytes\"\n",
    "import \"go/format\"\n",
    "import \"fmt\""
   ]
  },
  {
   "cell_type": "code",
   "execution_count": 68,
   "metadata": {},
   "outputs": [
    {
     "name": "stdout",
     "output_type": "stream",
     "text": [
      "func myfunc() (*ptr, a.b)\n"
     ]
    },
    {
     "data": {
      "text/plain": [
       "26 <nil>"
      ]
     },
     "execution_count": 68,
     "metadata": {},
     "output_type": "execute_result"
    }
   ],
   "source": [
    "var buf bytes.Buffer\n",
    "\n",
    "err := format.Node(&buf, fset, fn)\n",
    "if err != nil {\n",
    "    panic(err)\n",
    "}\n",
    "fmt.Println(buf.String())"
   ]
  },
  {
   "cell_type": "markdown",
   "metadata": {},
   "source": [
    "- 补齐一下代码"
   ]
  },
  {
   "cell_type": "code",
   "execution_count": 60,
   "metadata": {},
   "outputs": [
    {
     "data": {
      "text/plain": [
       "6 <nil>"
      ]
     },
     "execution_count": 60,
     "metadata": {},
     "output_type": "execute_result"
    }
   ],
   "source": [
    "buf.WriteString(\"{a:=1}\")"
   ]
  },
  {
   "cell_type": "code",
   "execution_count": 61,
   "metadata": {},
   "outputs": [
    {
     "name": "stdout",
     "output_type": "stream",
     "text": [
      "func myfunc() (*ptr, a.b){a:=1}\n"
     ]
    },
    {
     "data": {
      "text/plain": [
       "32 <nil>"
      ]
     },
     "execution_count": 61,
     "metadata": {},
     "output_type": "execute_result"
    }
   ],
   "source": [
    "fmt.Println(buf.String())"
   ]
  },
  {
   "cell_type": "code",
   "execution_count": 62,
   "metadata": {},
   "outputs": [],
   "source": [
    "import (\n",
    "    \"go/ast\"\n",
    "    \"go/parser\"\n",
    "    \"go/token\"\n",
    ")"
   ]
  },
  {
   "cell_type": "markdown",
   "metadata": {},
   "source": [
    "- parser.ParseFile 的调用有报错\n",
    "- 似乎是针对完整的 go 源码文件的，也就是需要包括 package 等完整的声明"
   ]
  },
  {
   "cell_type": "code",
   "execution_count": 69,
   "metadata": {},
   "outputs": [
    {
     "ename": "ERROR",
     "evalue": "1:1: expected 'package', found 'func'",
     "output_type": "error",
     "traceback": [
      "1:1: expected 'package', found 'func'"
     ]
    }
   ],
   "source": [
    "fset := token.NewFileSet()\n",
    "\n",
    "file, err := parser.ParseFile(fset, \"\", buf.String(), 0)\n",
    "if err != nil {\n",
    "    panic(err)\n",
    "}"
   ]
  },
  {
   "cell_type": "code",
   "execution_count": 70,
   "metadata": {},
   "outputs": [
    {
     "name": "stdout",
     "output_type": "stream",
     "text": [
      "     0  *ast.File {\n",
      "     1  .  Package: -\n",
      "     2  .  Name: *ast.Ident {\n",
      "     3  .  .  NamePos: -\n",
      "     4  .  .  Name: \"\"\n",
      "     5  .  }\n",
      "     6  .  Scope: *ast.Scope {\n",
      "     7  .  .  Objects: map[string]*ast.Object (len = 0) {}\n",
      "     8  .  }\n",
      "     9  }\n"
     ]
    }
   ],
   "source": [
    "ast.Print(fset, file)"
   ]
  },
  {
   "cell_type": "markdown",
   "metadata": {},
   "source": [
    "- 补齐代码"
   ]
  },
  {
   "cell_type": "code",
   "execution_count": 71,
   "metadata": {},
   "outputs": [
    {
     "name": "stdout",
     "output_type": "stream",
     "text": [
      "package main\n",
      "func myfunc() (*ptr, a.b)\n"
     ]
    },
    {
     "data": {
      "text/plain": [
       "39 <nil>"
      ]
     },
     "execution_count": 71,
     "metadata": {},
     "output_type": "execute_result"
    }
   ],
   "source": [
    "var src bytes.Buffer\n",
    "src.WriteString(\"package main\\n\")\n",
    "src.WriteString(buf.String())\n",
    "fmt.Println(src.String())"
   ]
  },
  {
   "cell_type": "code",
   "execution_count": 72,
   "metadata": {},
   "outputs": [
    {
     "name": "stdout",
     "output_type": "stream",
     "text": [
      "     0  *ast.File {\n",
      "     1  .  Package: 1:1\n",
      "     2  .  Name: *ast.Ident {\n",
      "     3  .  .  NamePos: 1:9\n",
      "     4  .  .  Name: \"main\"\n",
      "     5  .  }\n",
      "     6  .  Decls: []ast.Decl (len = 1) {\n",
      "     7  .  .  0: *ast.FuncDecl {\n",
      "     8  .  .  .  Name: *ast.Ident {\n",
      "     9  .  .  .  .  NamePos: 2:6\n",
      "    10  .  .  .  .  Name: \"myfunc\"\n",
      "    11  .  .  .  .  Obj: *ast.Object {\n",
      "    12  .  .  .  .  .  Kind: func\n",
      "    13  .  .  .  .  .  Name: \"myfunc\"\n",
      "    14  .  .  .  .  .  Decl: *(obj @ 7)\n",
      "    15  .  .  .  .  }\n",
      "    16  .  .  .  }\n",
      "    17  .  .  .  Type: *ast.FuncType {\n",
      "    18  .  .  .  .  Func: 2:1\n",
      "    19  .  .  .  .  Params: *ast.FieldList {\n",
      "    20  .  .  .  .  .  Opening: 2:12\n",
      "    21  .  .  .  .  .  Closing: 2:13\n",
      "    22  .  .  .  .  }\n",
      "    23  .  .  .  .  Results: *ast.FieldList {\n",
      "    24  .  .  .  .  .  Opening: 2:15\n",
      "    25  .  .  .  .  .  List: []*ast.Field (len = 2) {\n",
      "    26  .  .  .  .  .  .  0: *ast.Field {\n",
      "    27  .  .  .  .  .  .  .  Type: *ast.StarExpr {\n",
      "    28  .  .  .  .  .  .  .  .  Star: 2:16\n",
      "    29  .  .  .  .  .  .  .  .  X: *ast.Ident {\n",
      "    30  .  .  .  .  .  .  .  .  .  NamePos: 2:17\n",
      "    31  .  .  .  .  .  .  .  .  .  Name: \"ptr\"\n",
      "    32  .  .  .  .  .  .  .  .  }\n",
      "    33  .  .  .  .  .  .  .  }\n",
      "    34  .  .  .  .  .  .  }\n",
      "    35  .  .  .  .  .  .  1: *ast.Field {\n",
      "    36  .  .  .  .  .  .  .  Type: *ast.SelectorExpr {\n",
      "    37  .  .  .  .  .  .  .  .  X: *ast.Ident {\n",
      "    38  .  .  .  .  .  .  .  .  .  NamePos: 2:22\n",
      "    39  .  .  .  .  .  .  .  .  .  Name: \"a\"\n",
      "    40  .  .  .  .  .  .  .  .  }\n",
      "    41  .  .  .  .  .  .  .  .  Sel: *ast.Ident {\n",
      "    42  .  .  .  .  .  .  .  .  .  NamePos: 2:24\n",
      "    43  .  .  .  .  .  .  .  .  .  Name: \"b\"\n",
      "    44  .  .  .  .  .  .  .  .  }\n",
      "    45  .  .  .  .  .  .  .  }\n",
      "    46  .  .  .  .  .  .  }\n",
      "    47  .  .  .  .  .  }\n",
      "    48  .  .  .  .  .  Closing: 2:25\n",
      "    49  .  .  .  .  }\n",
      "    50  .  .  .  }\n",
      "    51  .  .  }\n",
      "    52  .  }\n",
      "    53  .  Scope: *ast.Scope {\n",
      "    54  .  .  Objects: map[string]*ast.Object (len = 1) {\n",
      "    55  .  .  .  \"myfunc\": *(obj @ 11)\n",
      "    56  .  .  }\n",
      "    57  .  }\n",
      "    58  .  Unresolved: []*ast.Ident (len = 2) {\n",
      "    59  .  .  0: *(obj @ 29)\n",
      "    60  .  .  1: *(obj @ 37)\n",
      "    61  .  }\n",
      "    62  }\n"
     ]
    }
   ],
   "source": [
    "fset := token.NewFileSet()\n",
    "\n",
    "file, err := parser.ParseFile(fset, \"\", src.String(), 0)\n",
    "if err != nil {\n",
    "    panic(err)\n",
    "}\n",
    "ast.Print(fset, file)"
   ]
  },
  {
   "cell_type": "code",
   "execution_count": null,
   "metadata": {},
   "outputs": [],
   "source": []
  }
 ],
 "metadata": {
  "kernelspec": {
   "display_name": "Go",
   "language": "go",
   "name": "gophernotes"
  },
  "language_info": {
   "codemirror_mode": "",
   "file_extension": ".go",
   "mimetype": "",
   "name": "go",
   "nbconvert_exporter": "",
   "pygments_lexer": "",
   "version": "go1.17.2"
  }
 },
 "nbformat": 4,
 "nbformat_minor": 2
}
