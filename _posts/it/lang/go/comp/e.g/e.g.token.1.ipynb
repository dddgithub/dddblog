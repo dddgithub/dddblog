{
 "cells": [
  {
   "cell_type": "markdown",
   "metadata": {},
   "source": [
    "## example-token-1"
   ]
  },
  {
   "cell_type": "markdown",
   "metadata": {},
   "source": [
    "### e.g. 把 go 源码解析出 token 流\n",
    "- go 中主要有两个模块干这个事，在编译原理中是“词法分析”这个环节\n",
    "- scanner 是扫描源码字符流，通过 token 分析处理识别出语言定义的一系列的名字、关键字和标点符号等\n",
    "- 本质上是字符串的处理和计算识别，一般理论是各种自动机状态机"
   ]
  },
  {
   "cell_type": "code",
   "execution_count": 1,
   "metadata": {},
   "outputs": [],
   "source": [
    "import (\n",
    "    \"fmt\"\n",
    "    \"go/scanner\"\n",
    "    \"go/token\"\n",
    ")"
   ]
  },
  {
   "cell_type": "markdown",
   "metadata": {},
   "source": [
    "- 举例的一段代码字符流，就是字符串"
   ]
  },
  {
   "cell_type": "code",
   "execution_count": 2,
   "metadata": {},
   "outputs": [],
   "source": [
    "src := []byte(`package main\n",
    "import \"fmt\"\n",
    "var x = 1\n",
    "func main() {\n",
    "  a := 2\n",
    "  fmt.Println(\"Hello, world!\")\n",
    "}`)"
   ]
  },
  {
   "cell_type": "markdown",
   "metadata": {},
   "source": [
    "-  创建扫描器对象，扫描源代码字符串，生成 token 流"
   ]
  },
  {
   "cell_type": "code",
   "execution_count": 6,
   "metadata": {},
   "outputs": [],
   "source": [
    "var s scanner.Scanner\n",
    "\n",
    "fset := token.NewFileSet()\n",
    "file := fset.AddFile(\"\", fset.Base(), len(src))\n",
    "s.Init(file, src, nil, 0)"
   ]
  },
  {
   "cell_type": "code",
   "execution_count": 7,
   "metadata": {},
   "outputs": [
    {
     "name": "stdout",
     "output_type": "stream",
     "text": [
      "1:1   package \"package\"\n",
      "1:9   IDENT   \"main\"\n",
      "1:13  ;       \"\\n\"\n",
      "2:1   import  \"import\"\n",
      "2:8   STRING  \"\\\"fmt\\\"\"\n",
      "2:13  ;       \"\\n\"\n",
      "3:1   var     \"var\"\n",
      "3:5   IDENT   \"x\"\n",
      "3:7   =       \"\"\n",
      "3:9   INT     \"1\"\n",
      "3:10  ;       \"\\n\"\n",
      "4:1   func    \"func\"\n",
      "4:6   IDENT   \"main\"\n",
      "4:10  (       \"\"\n",
      "4:11  )       \"\"\n",
      "4:13  {       \"\"\n",
      "5:3   IDENT   \"a\"\n",
      "5:5   :=      \"\"\n",
      "5:8   INT     \"2\"\n",
      "5:9   ;       \"\\n\"\n",
      "6:3   IDENT   \"fmt\"\n",
      "6:6   .       \"\"\n",
      "6:7   IDENT   \"Println\"\n",
      "6:14  (       \"\"\n",
      "6:15  STRING  \"\\\"Hello, world!\\\"\"\n",
      "6:30  )       \"\"\n",
      "6:31  ;       \"\\n\"\n",
      "7:1   }       \"\"\n",
      "7:2   ;       \"\\n\"\n",
      "7:2   EOF     \"\"\n"
     ]
    }
   ],
   "source": [
    "for {\n",
    "        pos, tok, lit := s.Scan()\n",
    "        fmt.Printf(\"%-6s%-8s%q\\n\", fset.Position(pos), tok, lit)\n",
    "\n",
    "        if tok == token.EOF {\n",
    "            break\n",
    "        }\n",
    "    }"
   ]
  },
  {
   "cell_type": "markdown",
   "metadata": {},
   "source": [
    "### 按字面注释一下输出\n",
    "```json\n",
    "1:1   package \"package\" // 第1行第1个字符开始 package token及其相关信息\n",
    "1:9   IDENT   \"main\"    // 第1行第9个字符开始 IDENT token 及其相关信息\n",
    "1:13  ;       \"\\n\"\n",
    "2:1   import  \"import\"\n",
    "2:8   STRING  \"\\\"fmt\\\"\"\n",
    "2:13  ;       \"\\n\"\n",
    "3:1   var     \"var\"\n",
    "3:5   IDENT   \"x\"\n",
    "3:7   =       \"\"\n",
    "3:9   INT     \"1\"\n",
    "3:10  ;       \"\\n\"\n",
    "4:1   func    \"func\"\n",
    "4:6   IDENT   \"main\"\n",
    "4:10  (       \"\"\n",
    "4:11  )       \"\"\n",
    "4:13  {       \"\"\n",
    "5:3   IDENT   \"a\"\n",
    "5:5   :=      \"\"\n",
    "5:8   INT     \"2\"\n",
    "5:9   ;       \"\\n\"\n",
    "6:3   IDENT   \"fmt\"\n",
    "6:6   .       \"\"\n",
    "6:7   IDENT   \"Println\"\n",
    "6:14  (       \"\"\n",
    "6:15  STRING  \"\\\"Hello, world!\\\"\"\n",
    "6:30  )       \"\"\n",
    "6:31  ;       \"\\n\"\n",
    "7:1   }       \"\"\n",
    "7:2   ;       \"\\n\"\n",
    "7:2   EOF     \"\"\n",
    "```"
   ]
  },
  {
   "cell_type": "code",
   "execution_count": null,
   "metadata": {},
   "outputs": [],
   "source": []
  }
 ],
 "metadata": {
  "kernelspec": {
   "display_name": "Go",
   "language": "go",
   "name": "gophernotes"
  },
  "language_info": {
   "codemirror_mode": "",
   "file_extension": ".go",
   "mimetype": "",
   "name": "go",
   "nbconvert_exporter": "",
   "pygments_lexer": "",
   "version": "go1.17.2"
  }
 },
 "nbformat": 4,
 "nbformat_minor": 2
}
